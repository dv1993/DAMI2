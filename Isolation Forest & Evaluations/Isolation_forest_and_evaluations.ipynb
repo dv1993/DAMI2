{
 "cells": [
  {
   "cell_type": "code",
   "execution_count": 1,
   "metadata": {},
   "outputs": [],
   "source": [
    "import numpy as np\n",
    "import pandas as pd\n",
    "from sklearn.ensemble import IsolationForest\n",
    "import matplotlib.pyplot as plt\n",
    "import scipy.stats as stats\n",
    "from sklearn.metrics import roc_auc_score, precision_score, recall_score\n",
    "from mlxtend.evaluate import mcnemar, mcnemar_table"
   ]
  },
  {
   "cell_type": "code",
   "execution_count": 2,
   "metadata": {},
   "outputs": [],
   "source": [
    "rng = np.random.RandomState(42)\n",
    "clf = IsolationForest(behaviour='new',\n",
    "                      random_state=rng, contamination='auto')"
   ]
  },
  {
   "cell_type": "code",
   "execution_count": null,
   "metadata": {},
   "outputs": [],
   "source": [
    "#df= dataframe created from excel-file with the data used in the study\n",
    "x=df.Belopp.values.reshape(-1,1)\n",
    "pred=clf.fit_predict(x)"
   ]
  },
  {
   "cell_type": "code",
   "execution_count": null,
   "metadata": {},
   "outputs": [],
   "source": [
    "#Take out the true labels and make 1=anomaly and 0=normal\n",
    "true=np.where((df.Anomaly==-1),1,0)\n",
    "#Take out the labels given by Isolation forest and make 1=anomaly and 0=normal\n",
    "isolationForestResult=np.where((pred==-1),1,0)\n",
    "#Take out the labels given by STL & GESD and make 1=anomaly and 0=normal.\n",
    "#anomalize_res=dataframe created from a excel-file created from the results in Anomalize.R\n",
    "anomalizeResult=np.where((anomalize_res.anomaly==\"Yes\"),1,0)"
   ]
  },
  {
   "cell_type": "code",
   "execution_count": null,
   "metadata": {},
   "outputs": [],
   "source": [
    "#AUC for the two models\n",
    "print(roc_auc_score(true, isolationForestResult))\n",
    "print(roc_auc_score(true, anomalizeResult))"
   ]
  },
  {
   "cell_type": "code",
   "execution_count": null,
   "metadata": {},
   "outputs": [],
   "source": [
    "#Precision for the two models\n",
    "print(precision_score(true, isolationForestResult))\n",
    "print(precision_score(true, anomalizeResult))"
   ]
  },
  {
   "cell_type": "code",
   "execution_count": null,
   "metadata": {},
   "outputs": [],
   "source": [
    "#Recall for the two models\n",
    "print(recall_score(true,isolationForestResult))\n",
    "print(recall_score(true,anomalizeResult))"
   ]
  },
  {
   "cell_type": "code",
   "execution_count": null,
   "metadata": {},
   "outputs": [],
   "source": [
    "#McNemar test\n",
    "mctable=mcnemar_table(true, anomalizeResult, isolationForestResult)\n",
    "chi2, p=mcnemar(ary=mctable)\n",
    "print(chi2)\n",
    "print(p)"
   ]
  }
 ],
 "metadata": {
  "kernelspec": {
   "display_name": "Python 3",
   "language": "python",
   "name": "python3"
  },
  "language_info": {
   "codemirror_mode": {
    "name": "ipython",
    "version": 3
   },
   "file_extension": ".py",
   "mimetype": "text/x-python",
   "name": "python",
   "nbconvert_exporter": "python",
   "pygments_lexer": "ipython3",
   "version": "3.6.7"
  }
 },
 "nbformat": 4,
 "nbformat_minor": 2
}
